{
 "cells": [
  {
   "cell_type": "markdown",
   "id": "1f5ff275-aa8e-4d4c-8611-6b9f5b4a97ef",
   "metadata": {},
   "source": [
    "# 📊 ADSP 통계 기초 정리"
   ]
  },
  {
   "cell_type": "markdown",
   "id": "7bc99f93-24fd-4073-9a0f-e1daab4c8d05",
   "metadata": {},
   "source": [
    "## 1. 중심 경향성 (Measures of Central Tendency)\n",
    "\n",
    "- 평균 (Mean):  \n",
    "  $ \\bar{x} = \\frac{1}{n} \\sum x_i $\n",
    "\n",
    "- 중앙값 (Median): 데이터를 오름차순으로 정렬했을 때 가운데 값\n",
    "\n",
    "- 최빈값 (Mode): 가장 자주 나오는 값"
   ]
  },
  {
   "cell_type": "markdown",
   "id": "8c4b01d1-552a-47c4-a391-3173fba7c9a8",
   "metadata": {},
   "source": [
    "## 2. 산포도 (Measures of Dispersion)\n",
    "\n",
    "- 분산 (Variance):  \n",
    "  $ \\sigma^2 = \\frac{1}{n} \\sum (x_i - \\mu)^2 $\n",
    "\n",
    "- 표본분산 (Sample Variance):  \n",
    "  $ s^2 = \\frac{1}{n - 1} \\sum (x_i - \\bar{x})^2 $\n",
    "\n",
    "- 표준편차 (Standard Deviation):  \n",
    "  $ \\sigma = \\sqrt{\\sigma^2} $\n",
    "\n",
    "- 범위 (Range): 최댓값 - 최솟값\n",
    "\n",
    "- 사분위수범위 (IQR): $ Q_3 - Q_1 $"
   ]
  },
  {
   "cell_type": "markdown",
   "id": "cbb4dfea-f4a0-47d2-8c7e-45c9205eb90e",
   "metadata": {},
   "source": [
    "## 3. 분포의 모양 (Shape of Distribution)\n",
    "\n",
    "- 왜도 (Skewness): 분포의 비대칭 정도  \n",
    "  (오른쪽으로 긴 꼬리 → 양의 왜도)\n",
    "\n",
    "- 첨도 (Kurtosis): 꼬리의 두꺼움 정도  \n",
    "  (평균 주변에 몰려 있으면 높은 첨도)"
   ]
  },
  {
   "cell_type": "markdown",
   "id": "62691701-9553-45dd-bdb2-6ffdb979d210",
   "metadata": {},
   "source": [
    "## 4. 확률분포 (Probability Distribution)\n",
    "\n",
    "- 이산 확률분포:\n",
    "  - 이항분포 (Binomial Distribution)\n",
    "  - 포아송분포 (Poisson Distribution)\n",
    "\n",
    "- 연속 확률분포:\n",
    "  - 정규분포 (Normal Distribution)\n",
    "  - t-분포, 카이제곱분포 등"
   ]
  },
  {
   "cell_type": "code",
   "execution_count": null,
   "id": "31fd753d-2185-4772-a735-acf33625a114",
   "metadata": {},
   "outputs": [],
   "source": []
  }
 ],
 "metadata": {
  "kernelspec": {
   "display_name": "Python 3 (ipykernel)",
   "language": "python",
   "name": "python3"
  },
  "language_info": {
   "codemirror_mode": {
    "name": "ipython",
    "version": 3
   },
   "file_extension": ".py",
   "mimetype": "text/x-python",
   "name": "python",
   "nbconvert_exporter": "python",
   "pygments_lexer": "ipython3",
   "version": "3.13.4"
  }
 },
 "nbformat": 4,
 "nbformat_minor": 5
}
