{
 "cells": [
  {
   "cell_type": "markdown",
   "id": "1f5ff275-aa8e-4d4c-8611-6b9f5b4a97ef",
   "metadata": {},
   "source": [
    "# 📊 ADSP 정리 01 - 통계 기초 (Descriptive Statistics)"
   ]
  },
  {
   "cell_type": "markdown",
   "id": "7bc99f93-24fd-4073-9a0f-e1daab4c8d05",
   "metadata": {},
   "source": [
    "## 1. 중심 경향성 (Measures of Central Tendency)\n",
    "\n",
    "- **평균 (Mean)**  \n",
    "  $ \\bar{x} = \\frac{1}{n} \\sum_{i=1}^n x_i $\n",
    "\n",
    "- **중앙값 (Median)**  \n",
    "  데이터를 크기순으로 정렬했을 때 중간에 위치한 값\n",
    "\n",
    "- **최빈값 (Mode)**  \n",
    "  가장 자주 나타나는 값"
   ]
  },
  {
   "cell_type": "markdown",
   "id": "8c4b01d1-552a-47c4-a391-3173fba7c9a8",
   "metadata": {},
   "source": [
    "## 2. 산포도 (Measures of Dispersion)\n",
    "\n",
    "- **분산 (Variance)**  \n",
    "  $ \\sigma^2 = \\frac{1}{n} \\sum (x_i - \\mu)^2 $\n",
    "\n",
    "- **표본분산 (Sample Variance)**  \n",
    "  $ s^2 = \\frac{1}{n-1} \\sum (x_i - \\bar{x})^2 $\n",
    "\n",
    "- **표준편차 (Standard Deviation)**  \n",
    "  $ \\sigma = \\sqrt{\\sigma^2} $\n",
    "\n",
    "- **범위 (Range)**  \n",
    "  $ \\text{Range} = \\text{최댓값} - \\text{최솟값} $\n",
    "\n",
    "- **사분위수 범위 (IQR)**  \n",
    "  $ \\text{IQR} = Q_3 - Q_1 $"
   ]
  },
  {
   "cell_type": "markdown",
   "id": "cbb4dfea-f4a0-47d2-8c7e-45c9205eb90e",
   "metadata": {},
   "source": [
    "## 3. 분포의 모양 (Shape of Distribution)\n",
    "\n",
    "- **왜도 (Skewness)**  \n",
    "  - 분포의 비대칭 정도  \n",
    "  - 오른쪽 꼬리 → 양의 왜도  \n",
    "  - 왼쪽 꼬리 → 음의 왜도\n",
    "\n",
    "- **첨도 (Kurtosis)**  \n",
    "  - 분포의 뾰족한 정도  \n",
    "  - 정규분포보다 뾰족 → **양의 첨도**  \n",
    "  - 정규분포보다 평평 → **음의 첨도**"
   ]
  },
  {
   "cell_type": "markdown",
   "id": "4cdf33a7-5523-49dd-88ff-a06f70036dba",
   "metadata": {},
   "source": []
  }
 ],
 "metadata": {
  "kernelspec": {
   "display_name": "Python 3 (ipykernel)",
   "language": "python",
   "name": "python3"
  },
  "language_info": {
   "codemirror_mode": {
    "name": "ipython",
    "version": 3
   },
   "file_extension": ".py",
   "mimetype": "text/x-python",
   "name": "python",
   "nbconvert_exporter": "python",
   "pygments_lexer": "ipython3",
   "version": "3.13.4"
  }
 },
 "nbformat": 4,
 "nbformat_minor": 5
}
