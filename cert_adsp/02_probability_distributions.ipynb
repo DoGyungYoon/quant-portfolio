{
 "cells": [
  {
   "cell_type": "markdown",
   "id": "c5a2f0da-fb66-4eff-9708-6cb0ba797b60",
   "metadata": {},
   "source": [
    "# 🎲 ADSP 정리 02 - 확률과 확률분포 (Probability & Distributions)"
   ]
  },
  {
   "cell_type": "markdown",
   "id": "347ec8c8-f105-4d93-92d0-f3918e07a621",
   "metadata": {},
   "source": [
    "## 1. 확률의 기초 개념\n",
    "\n",
    "- **확률 (Probability)**  \n",
    "  어떤 사건이 일어날 가능성 (0 ≤ P ≤ 1)\n",
    "\n",
    "- **표본공간 (Sample Space)**  \n",
    "  가능한 모든 결과의 집합\n",
    "\n",
    "- **사건 (Event)**  \n",
    "  표본공간의 부분집합\n",
    "\n",
    "- **조건부 확률 (Conditional Probability)**  \n",
    "  $ P(A|B) = \\frac{P(A \\cap B)}{P(B)} $\n",
    "\n",
    "- **독립 사건 (Independent Events)**  \n",
    "  $ P(A \\cap B) = P(A) \\cdot P(B) $"
   ]
  },
  {
   "cell_type": "markdown",
   "id": "fb255c77-3b9d-4885-a7b6-9103d510d9fc",
   "metadata": {},
   "source": [
    "## 2. 이산 확률분포 (Discrete Distributions)\n",
    "\n",
    "- **이항분포 (Binomial Distribution)**  \n",
    "  $ P(X = k) = \\binom{n}{k} p^k (1-p)^{n-k} $  \n",
    "  - 시행 횟수: n  \n",
    "  - 성공 확률: p  \n",
    "  - 평균: $ \\mu = np $  \n",
    "  - 분산: $ \\sigma^2 = np(1 - p) $\n",
    "\n",
    "- **포아송분포 (Poisson Distribution)**  \n",
    "  $ P(X = k) = \\frac{\\lambda^k e^{-\\lambda}}{k!} $  \n",
    "  - 단위 시간/공간당 평균 발생 횟수: λ  \n",
    "  - 평균과 분산 모두 λ"
   ]
  },
  {
   "cell_type": "markdown",
   "id": "b3f3d7b7-6fa2-4927-8693-d2ad5253f9f9",
   "metadata": {},
   "source": [
    "## 3. 연속 확률분포 (Continuous Distributions)\n",
    "\n",
    "- **정규분포 (Normal Distribution)**  \n",
    "  $ f(x) = \\frac{1}{\\sqrt{2\\pi \\sigma^2}} \\exp \\left( -\\frac{(x - \\mu)^2}{2\\sigma^2} \\right) $\n",
    "\n",
    "  - 평균: $ \\mu $, 표준편차: $ \\sigma $\n",
    "  - 평균을 중심으로 대칭\n",
    "  - 68-95-99.7 규칙 적용 가능\n",
    "\n",
    "- **표준정규분포 (Standard Normal)**  \n",
    "  평균 0, 표준편차 1: $ Z = \\frac{X - \\mu}{\\sigma} $"
   ]
  },
  {
   "cell_type": "markdown",
   "id": "83929027-445b-4e17-8e71-9b12f752d1f8",
   "metadata": {},
   "source": [
    "## 4. 분포 요약 비교표\n",
    "\n",
    "| 분포 | 유형 | 평균 | 분산 | 특징 |\n",
    "|------|------|------|------|------|\n",
    "| 이항분포 | 이산 | np | np(1-p) | 정해진 횟수의 성공/실패 |\n",
    "| 포아송분포 | 이산 | λ | λ | 단위 시간당 사건 발생 |\n",
    "| 정규분포 | 연속 | μ | σ² | 대칭적, 자연 현상 모델링 |"
   ]
  },
  {
   "cell_type": "markdown",
   "id": "9e40f7d5-647c-4742-b07d-b6f91da0b4fc",
   "metadata": {},
   "source": []
  }
 ],
 "metadata": {
  "kernelspec": {
   "display_name": "Python 3 (ipykernel)",
   "language": "python",
   "name": "python3"
  },
  "language_info": {
   "codemirror_mode": {
    "name": "ipython",
    "version": 3
   },
   "file_extension": ".py",
   "mimetype": "text/x-python",
   "name": "python",
   "nbconvert_exporter": "python",
   "pygments_lexer": "ipython3",
   "version": "3.13.4"
  }
 },
 "nbformat": 4,
 "nbformat_minor": 5
}
