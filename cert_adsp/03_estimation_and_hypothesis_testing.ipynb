{
 "cells": [
  {
   "cell_type": "markdown",
   "id": "0748fe6b-0c6c-4105-86ed-99391c153c05",
   "metadata": {},
   "source": [
    "# 🧪 ADSP 정리 03 - 추정과 가설검정 (Estimation & Hypothesis Testing)"
   ]
  },
  {
   "cell_type": "markdown",
   "id": "ecf29b00-90af-42ef-a0c1-c57952004813",
   "metadata": {},
   "source": [
    "## 1. 추정 (Estimation)\n",
    "\n",
    "- **모수 (Parameter)**: 모집단의 특성 (예: μ, σ)\n",
    "- **통계량 (Statistic)**: 표본의 특성 (예: $\\bar{x}$, s)\n",
    "- **점추정 (Point Estimation)**:  \n",
    "  단일 값으로 모수 추정 → 예: 평균 μ ≈ $\\bar{x}$\n",
    "\n",
    "- **구간추정 (Interval Estimation)**:  \n",
    "  일정 수준의 신뢰를 가지고 모수의 범위를 추정\n",
    "\n",
    "- **신뢰구간 (Confidence Interval)**:  \n",
    "  $ \\bar{x} \\pm Z_{\\alpha/2} \\cdot \\frac{\\sigma}{\\sqrt{n}} $  \n",
    "  (정규분포 기반, σ를 모를 경우 t-분포 사용)"
   ]
  },
  {
   "cell_type": "markdown",
   "id": "dc792e4d-dc24-45f5-80cf-2ba658286c53",
   "metadata": {},
   "source": [
    "## 2. 가설검정 (Hypothesis Testing)\n",
    "\n",
    "- **귀무가설 ($H_0$)**: 변화 없음, 기존 상태 유지 주장  \n",
    "- **대립가설 ($H_1$)**: 변화 있음, 새로운 주장\n",
    "\n",
    "- **유의수준 ($\\alpha$)**:  \n",
    "  귀무가설이 맞는데도 기각할 확률 (보통 0.05)\n",
    "\n",
    "- **검정통계량 (Test Statistic)**:  \n",
    "  표본 통계량이 얼마나 극단적m인지를 측정\n",
    "\n",
    "- **기각역 (Rejection Region)**:  \n",
    "  검정통계량이 특정 기준보다 크거나 작으면 $H_0$ 기각\n",
    "\n",
    "- **p-값 (p-value)**:  \n",
    "  관측된 결과가 $H_0$ 하에서 나타날 확률"
   ]
  },
  {
   "cell_type": "markdown",
   "id": "20b2ab92-f39d-402c-990b-2a140824d320",
   "metadata": {},
   "source": [
    "## 3. 가설검정 절차\n",
    "\n",
    "1. 귀무가설 $H_0$ 과 대립가설 $H_1$ 설정  \n",
    "2. 유의수준 $\\alpha$ 설정  \n",
    "3. 검정통계량 계산  \n",
    "4. 기각역 또는 p-value 확인  \n",
    "5. 결론 도출:  \n",
    "   - p < $\\alpha$ → $H_0$ 기각  \n",
    "   - p ≥ $\\alpha$ → $H_0$ 채택"
   ]
  },
  {
   "cell_type": "markdown",
   "id": "efc3c60e-f76a-4b7e-8204-64a3eaa0c09c",
   "metadata": {},
   "source": [
    "## 4. 주요 검정 종류 요약\n",
    "\n",
    "| 검정 종류 | 사용 상황 | 예시 |\n",
    "|-----------|-----------|------|\n",
    "| Z-검정 | 모표준편차 σ를 아는 경우 | 평균 μ 차이 |\n",
    "| t-검정 | 모표준편차 σ를 모를 경우 | 두 집단 평균 비교 |\n",
    "| 카이제곱 검정 | 범주형 변수 | 독립성 검정, 적합도 검정 |\n",
    "| F-검정 | 분산 비교 | 등분산성 검정 |"
   ]
  },
  {
   "cell_type": "markdown",
   "id": "8b142a7c-9108-44b0-abe9-dc4a7a65ca43",
   "metadata": {},
   "source": []
  }
 ],
 "metadata": {
  "kernelspec": {
   "display_name": "Python 3 (ipykernel)",
   "language": "python",
   "name": "python3"
  },
  "language_info": {
   "codemirror_mode": {
    "name": "ipython",
    "version": 3
   },
   "file_extension": ".py",
   "mimetype": "text/x-python",
   "name": "python",
   "nbconvert_exporter": "python",
   "pygments_lexer": "ipython3",
   "version": "3.13.4"
  }
 },
 "nbformat": 4,
 "nbformat_minor": 5
}
