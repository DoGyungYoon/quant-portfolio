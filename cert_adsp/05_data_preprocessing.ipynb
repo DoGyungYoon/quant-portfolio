{
 "cells": [
  {
   "cell_type": "markdown",
   "id": "4ffaa347-e115-4228-9f74-46e318f6c785",
   "metadata": {},
   "source": [
    "# 🧹 ADSP 정리 05 - 데이터 전처리 (Data Preprocessing)"
   ]
  },
  {
   "cell_type": "markdown",
   "id": "49ac8543-1471-41c0-b698-0ef46f2e24be",
   "metadata": {},
   "source": [
    "## 1. 데이터 전처리란?\n",
    "\n",
    "- 분석 및 모델링 전에 데이터를 정제하고 준비하는 과정\n",
    "- 데이터 품질이 분석 결과와 모델 성능에 큰 영향을 미침\n",
    "- 주요 작업:\n",
    "  - 결측치 처리\n",
    "  - 이상치 처리\n",
    "  - 정규화 및 표준화\n",
    "  - 범주형 변수 인코딩"
   ]
  },
  {
   "cell_type": "code",
   "execution_count": 1,
   "id": "d842f7c7-71e9-46e3-bd43-19907d70ba08",
   "metadata": {},
   "outputs": [
    {
     "data": {
      "text/html": [
       "<div>\n",
       "<style scoped>\n",
       "    .dataframe tbody tr th:only-of-type {\n",
       "        vertical-align: middle;\n",
       "    }\n",
       "\n",
       "    .dataframe tbody tr th {\n",
       "        vertical-align: top;\n",
       "    }\n",
       "\n",
       "    .dataframe thead th {\n",
       "        text-align: right;\n",
       "    }\n",
       "</style>\n",
       "<table border=\"1\" class=\"dataframe\">\n",
       "  <thead>\n",
       "    <tr style=\"text-align: right;\">\n",
       "      <th></th>\n",
       "      <th>age</th>\n",
       "      <th>income</th>\n",
       "      <th>gender</th>\n",
       "    </tr>\n",
       "  </thead>\n",
       "  <tbody>\n",
       "    <tr>\n",
       "      <th>0</th>\n",
       "      <td>20</td>\n",
       "      <td>4048.516859</td>\n",
       "      <td>Female</td>\n",
       "    </tr>\n",
       "    <tr>\n",
       "      <th>1</th>\n",
       "      <td>23</td>\n",
       "      <td>4455.888251</td>\n",
       "      <td>Female</td>\n",
       "    </tr>\n",
       "    <tr>\n",
       "      <th>2</th>\n",
       "      <td>23</td>\n",
       "      <td>3991.309328</td>\n",
       "      <td>Female</td>\n",
       "    </tr>\n",
       "    <tr>\n",
       "      <th>3</th>\n",
       "      <td>59</td>\n",
       "      <td>4460.670258</td>\n",
       "      <td>Female</td>\n",
       "    </tr>\n",
       "    <tr>\n",
       "      <th>4</th>\n",
       "      <td>29</td>\n",
       "      <td>3780.280577</td>\n",
       "      <td>Female</td>\n",
       "    </tr>\n",
       "  </tbody>\n",
       "</table>\n",
       "</div>"
      ],
      "text/plain": [
       "   age       income  gender\n",
       "0   20  4048.516859  Female\n",
       "1   23  4455.888251  Female\n",
       "2   23  3991.309328  Female\n",
       "3   59  4460.670258  Female\n",
       "4   29  3780.280577  Female"
      ]
     },
     "execution_count": 1,
     "metadata": {},
     "output_type": "execute_result"
    }
   ],
   "source": [
    "import pandas as pd\n",
    "import numpy as np\n",
    "import seaborn as sns\n",
    "import matplotlib.pyplot as plt\n",
    "\n",
    "# 예제 데이터 생성\n",
    "np.random.seed(0)\n",
    "df = pd.DataFrame({\n",
    "    \"age\": np.random.randint(20, 60, 100),\n",
    "    \"income\": np.random.normal(5000, 1500, 100),\n",
    "    \"gender\": np.random.choice([\"Male\", \"Female\"], 100)\n",
    "})\n",
    "\n",
    "# 일부 결측치 삽입\n",
    "df.loc[5:10, \"income\"] = np.nan\n",
    "\n",
    "df.head()"
   ]
  },
  {
   "cell_type": "markdown",
   "id": "d68861b2-9547-49c8-8950-c00b56f080c1",
   "metadata": {},
   "source": [
    "## 2. 결측치(Missing Values) 처리\n",
    "\n",
    "- 분석 대상에서 결측치는 반드시 확인하고 처리해야 함\n",
    "- 주요 방법:\n",
    "  - 삭제: `dropna()`\n",
    "  - 평균/중앙값으로 대체: `fillna()`"
   ]
  },
  {
   "cell_type": "code",
   "execution_count": 2,
   "id": "56cd6133-0646-4f75-860a-43c57df205b5",
   "metadata": {},
   "outputs": [
    {
     "name": "stdout",
     "output_type": "stream",
     "text": [
      "결측치 개수:\n",
      " age       0\n",
      "income    6\n",
      "gender    0\n",
      "dtype: int64\n"
     ]
    },
    {
     "data": {
      "text/plain": [
       "age       0\n",
       "income    0\n",
       "gender    0\n",
       "dtype: int64"
      ]
     },
     "execution_count": 2,
     "metadata": {},
     "output_type": "execute_result"
    }
   ],
   "source": [
    "# 결측치 확인\n",
    "print(\"결측치 개수:\\n\", df.isnull().sum())\n",
    "\n",
    "# 평균으로 대체\n",
    "df[\"income\"] = df[\"income\"].fillna(df[\"income\"].mean())\n",
    "\n",
    "# 확인\n",
    "df.isnull().sum()"
   ]
  },
  {
   "cell_type": "markdown",
   "id": "87387f2e-523d-43de-a4fe-05f233fe418a",
   "metadata": {},
   "source": [
    "## 3. 이상치(Outliers) 처리\n",
    "\n",
    "- 평균에서 크게 벗어난 값은 분석 결과를 왜곡시킬 수 있음\n",
    "- 일반적인 기준:\n",
    "  - Z-score가 3 이상이면 이상치로 간주"
   ]
  },
  {
   "cell_type": "code",
   "execution_count": 3,
   "id": "667492da-5963-4452-9235-79613982f877",
   "metadata": {},
   "outputs": [
    {
     "data": {
      "text/plain": [
       "(100, 3)"
      ]
     },
     "execution_count": 3,
     "metadata": {},
     "output_type": "execute_result"
    }
   ],
   "source": [
    "from scipy.stats import zscore\n",
    "\n",
    "# Z-score 계산\n",
    "z = np.abs(zscore(df[[\"income\"]]))\n",
    "\n",
    "# 이상치 제거 (Z-score 3 이상인 행 제거)\n",
    "df = df[(z < 3).all(axis=1)]\n",
    "\n",
    "df.shape  # 제거 후 데이터 크기 확인"
   ]
  },
  {
   "cell_type": "markdown",
   "id": "9fdd4f5a-390b-43b2-b627-e8a2c0fd9a38",
   "metadata": {},
   "source": [
    "## 4. 정규화 및 표준화\n",
    "\n",
    "- 정규화: 값의 범위를 [0, 1]로 맞춤\n",
    "- 표준화: 평균 0, 표준편차 1로 맞춤\n",
    "- 스케일이 다른 변수 간 비교/학습을 위해 필요"
   ]
  },
  {
   "cell_type": "code",
   "execution_count": 4,
   "id": "596abb76-edc2-4216-80ac-842f991a7bae",
   "metadata": {},
   "outputs": [
    {
     "data": {
      "text/html": [
       "<div>\n",
       "<style scoped>\n",
       "    .dataframe tbody tr th:only-of-type {\n",
       "        vertical-align: middle;\n",
       "    }\n",
       "\n",
       "    .dataframe tbody tr th {\n",
       "        vertical-align: top;\n",
       "    }\n",
       "\n",
       "    .dataframe thead th {\n",
       "        text-align: right;\n",
       "    }\n",
       "</style>\n",
       "<table border=\"1\" class=\"dataframe\">\n",
       "  <thead>\n",
       "    <tr style=\"text-align: right;\">\n",
       "      <th></th>\n",
       "      <th>age</th>\n",
       "      <th>income</th>\n",
       "    </tr>\n",
       "  </thead>\n",
       "  <tbody>\n",
       "    <tr>\n",
       "      <th>count</th>\n",
       "      <td>1.000000e+02</td>\n",
       "      <td>1.000000e+02</td>\n",
       "    </tr>\n",
       "    <tr>\n",
       "      <th>mean</th>\n",
       "      <td>-9.187096e-17</td>\n",
       "      <td>2.886580e-16</td>\n",
       "    </tr>\n",
       "    <tr>\n",
       "      <th>std</th>\n",
       "      <td>1.005038e+00</td>\n",
       "      <td>1.005038e+00</td>\n",
       "    </tr>\n",
       "    <tr>\n",
       "      <th>min</th>\n",
       "      <td>-1.500053e+00</td>\n",
       "      <td>-1.820159e+00</td>\n",
       "    </tr>\n",
       "    <tr>\n",
       "      <th>25%</th>\n",
       "      <td>-8.077815e-01</td>\n",
       "      <td>-8.706544e-01</td>\n",
       "    </tr>\n",
       "    <tr>\n",
       "      <th>50%</th>\n",
       "      <td>-3.639368e-02</td>\n",
       "      <td>6.443421e-16</td>\n",
       "    </tr>\n",
       "    <tr>\n",
       "      <th>75%</th>\n",
       "      <td>9.525650e-01</td>\n",
       "      <td>7.710833e-01</td>\n",
       "    </tr>\n",
       "    <tr>\n",
       "      <th>max</th>\n",
       "      <td>1.585499e+00</td>\n",
       "      <td>2.344945e+00</td>\n",
       "    </tr>\n",
       "  </tbody>\n",
       "</table>\n",
       "</div>"
      ],
      "text/plain": [
       "                age        income\n",
       "count  1.000000e+02  1.000000e+02\n",
       "mean  -9.187096e-17  2.886580e-16\n",
       "std    1.005038e+00  1.005038e+00\n",
       "min   -1.500053e+00 -1.820159e+00\n",
       "25%   -8.077815e-01 -8.706544e-01\n",
       "50%   -3.639368e-02  6.443421e-16\n",
       "75%    9.525650e-01  7.710833e-01\n",
       "max    1.585499e+00  2.344945e+00"
      ]
     },
     "execution_count": 4,
     "metadata": {},
     "output_type": "execute_result"
    }
   ],
   "source": [
    "from sklearn.preprocessing import StandardScaler, MinMaxScaler\n",
    "\n",
    "# 표준화\n",
    "scaler = StandardScaler()\n",
    "df[[\"age\", \"income\"]] = scaler.fit_transform(df[[\"age\", \"income\"]])\n",
    "\n",
    "df.describe()"
   ]
  },
  {
   "cell_type": "markdown",
   "id": "68ae3c78-32cb-46e6-8440-3cd370b77424",
   "metadata": {},
   "source": [
    "## 5. 범주형 변수 인코딩 (Categorical Encoding)\n",
    "\n",
    "- 머신러닝 모델은 숫자만 처리할 수 있으므로\n",
    "  문자열로 된 범주형 변수는 숫자로 변환해야 함\n",
    "- 방법:\n",
    "  - Label Encoding: 순서가 있는 경우\n",
    "  - One-Hot Encoding: 순서가 없는 범주 (ex. 성별, 지역)"
   ]
  },
  {
   "cell_type": "code",
   "execution_count": 5,
   "id": "7b8b0378-5c10-4780-b385-6aa7765cf25e",
   "metadata": {},
   "outputs": [
    {
     "data": {
      "text/html": [
       "<div>\n",
       "<style scoped>\n",
       "    .dataframe tbody tr th:only-of-type {\n",
       "        vertical-align: middle;\n",
       "    }\n",
       "\n",
       "    .dataframe tbody tr th {\n",
       "        vertical-align: top;\n",
       "    }\n",
       "\n",
       "    .dataframe thead th {\n",
       "        text-align: right;\n",
       "    }\n",
       "</style>\n",
       "<table border=\"1\" class=\"dataframe\">\n",
       "  <thead>\n",
       "    <tr style=\"text-align: right;\">\n",
       "      <th></th>\n",
       "      <th>age</th>\n",
       "      <th>income</th>\n",
       "      <th>gender_Male</th>\n",
       "    </tr>\n",
       "  </thead>\n",
       "  <tbody>\n",
       "    <tr>\n",
       "      <th>0</th>\n",
       "      <td>-1.500053</td>\n",
       "      <td>-0.861694</td>\n",
       "      <td>False</td>\n",
       "    </tr>\n",
       "    <tr>\n",
       "      <th>1</th>\n",
       "      <td>-1.262702</td>\n",
       "      <td>-0.573087</td>\n",
       "      <td>False</td>\n",
       "    </tr>\n",
       "    <tr>\n",
       "      <th>2</th>\n",
       "      <td>-1.262702</td>\n",
       "      <td>-0.902223</td>\n",
       "      <td>False</td>\n",
       "    </tr>\n",
       "    <tr>\n",
       "      <th>3</th>\n",
       "      <td>1.585499</td>\n",
       "      <td>-0.569699</td>\n",
       "      <td>False</td>\n",
       "    </tr>\n",
       "    <tr>\n",
       "      <th>4</th>\n",
       "      <td>-0.788002</td>\n",
       "      <td>-1.051729</td>\n",
       "      <td>False</td>\n",
       "    </tr>\n",
       "  </tbody>\n",
       "</table>\n",
       "</div>"
      ],
      "text/plain": [
       "        age    income  gender_Male\n",
       "0 -1.500053 -0.861694        False\n",
       "1 -1.262702 -0.573087        False\n",
       "2 -1.262702 -0.902223        False\n",
       "3  1.585499 -0.569699        False\n",
       "4 -0.788002 -1.051729        False"
      ]
     },
     "execution_count": 5,
     "metadata": {},
     "output_type": "execute_result"
    }
   ],
   "source": [
    "# gender 변수 one-hot 인코딩\n",
    "df = pd.get_dummies(df, columns=[\"gender\"], drop_first=True)\n",
    "\n",
    "df.head()"
   ]
  },
  {
   "cell_type": "markdown",
   "id": "9094d706-90fa-4aaa-aba0-003f62f174ac",
   "metadata": {},
   "source": [
    "## ✅ 요약: 데이터 전처리 흐름 정리\n",
    "\n",
    "1. **결측치 처리**  \n",
    "   - 삭제 or 평균/중앙값/모델 기반 대체\n",
    "\n",
    "2. **이상치 처리**  \n",
    "   - Z-score, IQR 등으로 탐지 및 제거\n",
    "\n",
    "3. **정규화 / 표준화**  \n",
    "   - MinMaxScaler / StandardScaler 사용\n",
    "\n",
    "4. **범주형 변수 인코딩**  \n",
    "   - pd.get_dummies()로 One-hot Encoding\n",
    "\n",
    "---\n",
    "\n",
    "→ 전처리는 데이터 분석 및 모델링의 **기초 체력 훈련!**\n",
    "→ 깨끗한 데이터가 좋은 결과를 만든다 💪"
   ]
  },
  {
   "cell_type": "code",
   "execution_count": null,
   "id": "769941e6-cc1e-4c50-ab67-14f5f258a5e7",
   "metadata": {},
   "outputs": [],
   "source": []
  }
 ],
 "metadata": {
  "kernelspec": {
   "display_name": "Python 3 (ipykernel)",
   "language": "python",
   "name": "python3"
  },
  "language_info": {
   "codemirror_mode": {
    "name": "ipython",
    "version": 3
   },
   "file_extension": ".py",
   "mimetype": "text/x-python",
   "name": "python",
   "nbconvert_exporter": "python",
   "pygments_lexer": "ipython3",
   "version": "3.13.4"
  }
 },
 "nbformat": 4,
 "nbformat_minor": 5
}
