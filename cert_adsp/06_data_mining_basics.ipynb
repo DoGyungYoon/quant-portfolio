{
 "cells": [
  {
   "cell_type": "markdown",
   "id": "42e113de-e620-457b-8636-573ee369ee7b",
   "metadata": {},
   "source": [
    "# 🔍 ADSP 정리 06 - 데이터 마이닝 기초 (Data Mining Basics)"
   ]
  },
  {
   "cell_type": "markdown",
   "id": "5c585a06-64bc-4c7e-bfc9-9ec32f40ed7d",
   "metadata": {},
   "source": [
    "## 1. 데이터 마이닝이란?\n",
    "\n",
    "- 대규모 데이터에서 의미 있는 패턴이나 규칙을 발견하는 과정\n",
    "- 목적: 의사결정 지원, 예측 모델 생성, 분류 및 군집화 등\n",
    "- 주요 기법:\n",
    "  - 분류 (Classification)\n",
    "  - 군집화 (Clustering)\n",
    "  - 연관 분석 (Association Rule Mining)\n"
   ]
  },
  {
   "cell_type": "code",
   "execution_count": 5,
   "id": "4692c6c4-9eb6-4fe1-b4a5-251727961f6e",
   "metadata": {},
   "outputs": [
    {
     "name": "stdout",
     "output_type": "stream",
     "text": [
      "Distance between [1 2] and [4 6] is 5.00\n"
     ]
    }
   ],
   "source": [
    "import numpy as np\n",
    "\n",
    "def euclidean_distance(x1, x2):\n",
    "    return np.sqrt(np.sum((x1 - x2) ** 2))\n",
    "\n",
    "# 테스트\n",
    "point1 = np.array([1, 2])\n",
    "point2 = np.array([4, 6])\n",
    "dist = euclidean_distance(point1, point2)\n",
    "print(f\"Distance between {point1} and {point2} is {dist:.2f}\")"
   ]
  },
  {
   "cell_type": "markdown",
   "id": "e0fcb45a-d1d4-4e52-b3dd-48af01b76247",
   "metadata": {},
   "source": [
    "## 2. KNN (K-Nearest Neighbors)\n",
    "\n",
    "- 새로운 데이터가 주어졌을 때, 가장 가까운 K개의 이웃을 찾아 분류 또는 회귀를 수행\n",
    "- 거리 계산 방법: 유클리드 거리, 맨해튼 거리 등\n",
    "- 장점: 이해하기 쉽고 구현 간단\n",
    "- 단점: 계산량 많음, 차원의 저주에 취약"
   ]
  },
  {
   "cell_type": "code",
   "execution_count": 8,
   "id": "ec818ddb-4cad-442b-bacb-5c97d7bfee8a",
   "metadata": {},
   "outputs": [
    {
     "name": "stdout",
     "output_type": "stream",
     "text": [
      "KNN Test Accuracy: 1.00\n"
     ]
    }
   ],
   "source": [
    "from sklearn.datasets import load_iris\n",
    "from sklearn.neighbors import KNeighborsClassifier\n",
    "from sklearn.model_selection import train_test_split\n",
    "from sklearn.metrics import accuracy_score\n",
    "\n",
    "# 데이터 준비\n",
    "iris = load_iris()\n",
    "X = iris.data\n",
    "y = iris.target\n",
    "\n",
    "# 학습용/테스트용 데이터 분할\n",
    "X_train, X_test, y_train, y_test = train_test_split(X, y, test_size=0.3, random_state=42)\n",
    "\n",
    "# KNN 모델 생성 및 학습\n",
    "knn = KNeighborsClassifier(n_neighbors=3)\n",
    "knn.fit(X_train, y_train)\n",
    "\n",
    "# 예측 및 정확도 평가\n",
    "y_pred = knn.predict(X_test)\n",
    "acc = accuracy_score(y_test, y_pred)\n",
    "print(f\"KNN Test Accuracy: {acc:.2f}\")\n"
   ]
  },
  {
   "cell_type": "markdown",
   "id": "f75db3e2-f1f6-47dc-8e9a-bacb8dd6a6fa",
   "metadata": {},
   "source": [
    "## 3. 연관 분석 (Association Rule Mining)\n",
    "\n",
    "- 대량의 거래 데이터에서 아이템 간의 연관 규칙을 발견\n",
    "- 대표적인 알고리즘: Apriori, FP-Growth\n",
    "- 용어:\n",
    "  - 지지도 (Support)\n",
    "  - 신뢰도 (Confidence)\n",
    "  - 향상도 (Lift)"
   ]
  },
  {
   "cell_type": "markdown",
   "id": "fbd51772-237b-49d0-9a46-15aa58385b6a",
   "metadata": {},
   "source": [
    "## 4. 클러스터링 (Clustering)\n",
    "\n",
    "- 비슷한 특성을 가진 데이터끼리 그룹화하는 작업\n",
    "- 대표적 기법:\n",
    "  - K-평균 (K-Means)\n",
    "  - 계층적 군집화 (Hierarchical Clustering)"
   ]
  }
 ],
 "metadata": {
  "kernelspec": {
   "display_name": "Python 3 (ipykernel)",
   "language": "python",
   "name": "python3"
  },
  "language_info": {
   "codemirror_mode": {
    "name": "ipython",
    "version": 3
   },
   "file_extension": ".py",
   "mimetype": "text/x-python",
   "name": "python",
   "nbconvert_exporter": "python",
   "pygments_lexer": "ipython3",
   "version": "3.13.4"
  }
 },
 "nbformat": 4,
 "nbformat_minor": 5
}
