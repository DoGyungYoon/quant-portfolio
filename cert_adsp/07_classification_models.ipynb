{
 "cells": [
  {
   "cell_type": "markdown",
   "id": "5ef4ae9f-94f5-44a9-b4cd-e5704a846426",
   "metadata": {},
   "source": [
    "# 🧮 ADSP 정리 07 - 분류 모델 (Classification Models)"
   ]
  },
  {
   "cell_type": "markdown",
   "id": "b2014746-d71e-4614-8db4-5fb8879c3d3a",
   "metadata": {},
   "source": [
    "## 1. 분류 모델이란?\n",
    "\n",
    "- 입력 데이터를 여러 카테고리 중 하나로 분류하는 모델\n",
    "- 주요 알고리즘:\n",
    "  - 의사결정트리 (Decision Tree)\n",
    "  - 나이브 베이즈 (Naive Bayes)\n",
    "  - 로지스틱 회귀 (Logistic Regression)"
   ]
  },
  {
   "cell_type": "markdown",
   "id": "e89619f1-bfbf-4321-b57f-cc3aed10d2a8",
   "metadata": {},
   "source": [
    "## 2. 의사결정트리 (Decision Tree)\n",
    "\n",
    "- 데이터 속성의 조건을 기준으로 가지(branch)를 나누며 분류\n",
    "- 장점: 해석이 쉽고 시각화 가능\n",
    "- 단점: 과적합 위험, 작은 변화에도 결과가 크게 변할 수 있음"
   ]
  },
  {
   "cell_type": "code",
   "execution_count": 5,
   "id": "4d80c89f-b554-4101-89c4-69f820f3ccf4",
   "metadata": {},
   "outputs": [
    {
     "name": "stdout",
     "output_type": "stream",
     "text": [
      "Decision Tree Test Accuracy: 1.00\n"
     ]
    }
   ],
   "source": [
    "from sklearn.datasets import load_iris\n",
    "from sklearn.tree import DecisionTreeClassifier\n",
    "from sklearn.model_selection import train_test_split\n",
    "from sklearn.metrics import accuracy_score\n",
    "\n",
    "# 데이터 준비\n",
    "iris = load_iris()\n",
    "X = iris.data\n",
    "y = iris.target\n",
    "\n",
    "# 학습/테스트 데이터 분할\n",
    "X_train, X_test, y_train, y_test = train_test_split(X, y, test_size=0.3, random_state=42)\n",
    "\n",
    "# 모델 생성 및 학습\n",
    "dt = DecisionTreeClassifier(random_state=42)\n",
    "dt.fit(X_train, y_train)\n",
    "\n",
    "# 예측 및 정확도 평가\n",
    "y_pred = dt.predict(X_test)\n",
    "acc = accuracy_score(y_test, y_pred)\n",
    "print(f\"Decision Tree Test Accuracy: {acc:.2f}\")"
   ]
  },
  {
   "cell_type": "markdown",
   "id": "9dcbafb2-7e74-4dcc-b34b-268cafab1056",
   "metadata": {},
   "source": [
    "## 3. 나이브 베이즈 (Naive Bayes)\n",
    "\n",
    "- 베이즈 정리를 기반으로 한 확률 분류기\n",
    "- 독립 가정(각 특성이 서로 독립이라는 가정)을 전제로 함\n",
    "- 장점: 빠르고 효율적, 소량 데이터에 강함\n",
    "- 단점: 독립 가정이 현실에 맞지 않을 수 있음"
   ]
  },
  {
   "cell_type": "code",
   "execution_count": 7,
   "id": "95e7a9bf-4338-4fb3-a304-2a090400a24f",
   "metadata": {},
   "outputs": [
    {
     "name": "stdout",
     "output_type": "stream",
     "text": [
      "Naive Bayes Test Accuracy: 0.98\n"
     ]
    }
   ],
   "source": [
    "from sklearn.naive_bayes import GaussianNB\n",
    "\n",
    "# 모델 생성 및 학습\n",
    "nb = GaussianNB()\n",
    "nb.fit(X_train, y_train)\n",
    "\n",
    "# 예측 및 정확도 평가\n",
    "y_pred_nb = nb.predict(X_test)\n",
    "acc_nb = accuracy_score(y_test, y_pred_nb)\n",
    "print(f\"Naive Bayes Test Accuracy: {acc_nb:.2f}\")"
   ]
  },
  {
   "cell_type": "code",
   "execution_count": null,
   "id": "cb3d1dc2-68fa-47f9-9857-b4b0808b383f",
   "metadata": {},
   "outputs": [],
   "source": []
  }
 ],
 "metadata": {
  "kernelspec": {
   "display_name": "Python 3 (ipykernel)",
   "language": "python",
   "name": "python3"
  },
  "language_info": {
   "codemirror_mode": {
    "name": "ipython",
    "version": 3
   },
   "file_extension": ".py",
   "mimetype": "text/x-python",
   "name": "python",
   "nbconvert_exporter": "python",
   "pygments_lexer": "ipython3",
   "version": "3.13.4"
  }
 },
 "nbformat": 4,
 "nbformat_minor": 5
}
